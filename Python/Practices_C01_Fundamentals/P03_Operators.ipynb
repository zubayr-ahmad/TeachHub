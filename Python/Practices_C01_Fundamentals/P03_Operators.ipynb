{
 "cells": [
  {
   "cell_type": "markdown",
   "metadata": {},
   "source": [
    "# Practice 03: Print and Operators\n",
    "\n",
    "## Instructions:\n",
    "You have learned the following Python concepts:\n",
    "- Using `print()` and `input()` (basic usage only)\n",
    "- Variables: integers (`int`), floats (`float`), booleans (`bool`), and strings (`str`)\n",
    "- Strings with single (`'`) and double (`\"`) quotes\n",
    "- Operators: arithmetic (`+`, `-`, `*`, `/`, `//`, `%`, `**`), comparison (`==`, `!=`, `<`, `>`, `<=`, `>=`), logical (`and`, `or`, `not`), and the `in` operator\n",
    "\n",
    "Solve the following questions by writing Python code. Test your code to match the sample executions provided. You can also test additional cases to validate your code (it's recommended).\n",
    "\n",
    "---"
   ]
  },
  {
   "cell_type": "markdown",
   "metadata": {
    "vscode": {
     "languageId": "plaintext"
    }
   },
   "source": [
    "### Question 1: Simple Calculator\n",
    "Write a program that:\n",
    "1. Asks the user for two numbers (assume they enter integers).\n",
    "2. Stores the numbers in variables.\n",
    "3. Prints the sum, difference, product, and division of the two numbers.\n",
    "\n",
    "**Sample Execution:**"
   ]
  },
  {
   "cell_type": "raw",
   "metadata": {
    "vscode": {
     "languageId": "raw"
    }
   },
   "source": [
    "Enter first number: 10\n",
    "Enter second number: 5\n",
    "Sum: 15\n",
    "Difference: 5\n",
    "Product: 50\n",
    "Division: 2.0\n"
   ]
  },
  {
   "cell_type": "code",
   "execution_count": null,
   "metadata": {},
   "outputs": [],
   "source": [
    "# Your code\n"
   ]
  },
  {
   "cell_type": "markdown",
   "metadata": {},
   "source": [
    "#### Question 2: Even or Odd Checker\n",
    "Write a program that:\n",
    "1. Asks the user to input an integer.\n",
    "2. Uses a comparison operator to check if the number is even or odd.\n",
    "3. Prints `True` if the number is even, and `False` if it’s odd.\n",
    "\n",
    "**Sample Execution:**"
   ]
  },
  {
   "cell_type": "raw",
   "metadata": {
    "vscode": {
     "languageId": "raw"
    }
   },
   "source": [
    "Enter a number: 7\n",
    "False\n",
    "\n",
    "Enter a number: 12\n",
    "True"
   ]
  },
  {
   "cell_type": "code",
   "execution_count": null,
   "metadata": {},
   "outputs": [],
   "source": [
    "# Your code"
   ]
  },
  {
   "cell_type": "markdown",
   "metadata": {},
   "source": [
    "\n",
    "\n",
    "\n",
    "#### Question 3: String Checker\n",
    "Write a program that:\n",
    "1. Asks the user to enter a word (a string).\n",
    "2. Checks if the letter `'a'` is in the word using the `in` operator.\n",
    "3. Prints `True` if `'a'` is in the word, and `False` if it’s not.\n",
    "\n",
    "**Sample Execution:**"
   ]
  },
  {
   "cell_type": "raw",
   "metadata": {
    "vscode": {
     "languageId": "raw"
    }
   },
   "source": [
    "Enter a word: hello\n",
    "False\n",
    "\n",
    "Enter a word: apple\n",
    "True"
   ]
  },
  {
   "cell_type": "code",
   "execution_count": null,
   "metadata": {},
   "outputs": [],
   "source": [
    "# Your code"
   ]
  },
  {
   "cell_type": "markdown",
   "metadata": {
    "vscode": {
     "languageId": "raw"
    }
   },
   "source": [
    "#### Question 4: Age Comparison\n",
    "Write a program that:\n",
    "1. Asks the user for their age (an integer).\n",
    "2. Asks the user for their friend's age (an integer).\n",
    "3. Prints whether the user is older than their friend (`True` or `False`).\n",
    "4. Prints whether the user's age is equal to their friend’s age (`True` or `False`).\n",
    "\n",
    "**Sample Execution:**"
   ]
  },
  {
   "cell_type": "raw",
   "metadata": {
    "vscode": {
     "languageId": "raw"
    }
   },
   "source": [
    "Enter your age: 15\n",
    "Enter your friend's age: 13\n",
    "Are you older? True\n",
    "Are your ages equal? False"
   ]
  },
  {
   "cell_type": "code",
   "execution_count": null,
   "metadata": {},
   "outputs": [],
   "source": [
    "# Your code\n"
   ]
  },
  {
   "cell_type": "markdown",
   "metadata": {
    "vscode": {
     "languageId": "raw"
    }
   },
   "source": [
    "#### Question 5: Logical Conditions\n",
    "Write a program that:\n",
    "1. Asks the user for a number (assume an integer).\n",
    "2. Checks if the number is both positive AND even.\n",
    "3. Prints `True` if the number is positive and even, and `False` otherwise.\n",
    "\n",
    "**Sample Execution:**\n"
   ]
  },
  {
   "cell_type": "raw",
   "metadata": {
    "vscode": {
     "languageId": "raw"
    }
   },
   "source": [
    "Enter a number: 6\n",
    "True\n",
    "\n",
    "Enter a number: -4\n",
    "False\n",
    "\n",
    "Enter a number: 7\n",
    "False"
   ]
  },
  {
   "cell_type": "code",
   "execution_count": null,
   "metadata": {},
   "outputs": [],
   "source": [
    "# Your code\n"
   ]
  },
  {
   "cell_type": "markdown",
   "metadata": {},
   "source": [
    "#### Bonus Question: Creative Math\n",
    "Write a program that:\n",
    "1. Asks the user for a number (assume an integer).\n",
    "2. Calculates the square of the number (using `**`).\n",
    "3. Calculates the remainder when the number is divided by 3 (using `%`).\n",
    "4. Prints both results.\n",
    "\n",
    "**Sample Execution:**"
   ]
  },
  {
   "cell_type": "raw",
   "metadata": {
    "vscode": {
     "languageId": "raw"
    }
   },
   "source": [
    "Enter a number: 5\n",
    "Square: 25\n",
    "Remainder when divided by 3: 2"
   ]
  },
  {
   "cell_type": "code",
   "execution_count": null,
   "metadata": {},
   "outputs": [],
   "source": [
    "# Your code"
   ]
  },
  {
   "cell_type": "markdown",
   "metadata": {},
   "source": []
  }
 ],
 "metadata": {
  "language_info": {
   "name": "python"
  }
 },
 "nbformat": 4,
 "nbformat_minor": 2
}
