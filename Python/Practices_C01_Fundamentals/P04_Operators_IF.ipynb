{
 "cells": [
  {
   "cell_type": "markdown",
   "id": "b9faea8f-bc6a-41af-b12c-0491ec416dda",
   "metadata": {},
   "source": [
    "# Practice 03"
   ]
  },
  {
   "cell_type": "markdown",
   "id": "ea1eb1a7-d4fe-4b5a-8c34-e74129d0af87",
   "metadata": {},
   "source": [
    "**1.** One acre of land is equivalent to 43,560 square feet. Write a program that asks the user\n",
    "to enter the total square feet in a tract of land, and then you have to calculate and display the number\n",
    "of acres in the tract."
   ]
  },
  {
   "cell_type": "code",
   "execution_count": null,
   "id": "78200b1d-b3df-40ac-b7be-d525e9fb2c8a",
   "metadata": {},
   "outputs": [],
   "source": []
  },
  {
   "cell_type": "markdown",
   "id": "65b5f8b9-bc2e-4367-8594-e47d01f33c43",
   "metadata": {},
   "source": [
    "**2.** Write a program to calculate and print __gross salary__ and __net salary__. The input is basic salary. The details\n",
    "are as under:  \n",
    "Medical allowance = 10% of basic salary &nbsp;&nbsp;&nbsp;&nbsp;&nbsp;&nbsp;&nbsp;&nbsp;&nbsp;&nbsp;&nbsp;&nbsp;&nbsp;&nbsp;&nbsp;&nbsp; basic salary * 0.1  \n",
    "Conveyance allowance = 15% of basic salary &nbsp;&nbsp;&nbsp;&nbsp;&nbsp;&nbsp;&nbsp;&nbsp;&nbsp; basic salary * 0.15  \n",
    "House rent = 45% of basic salary  \n",
    "Gross Salary = Basic Salary + Medical Allowance + Conveyance allowance + House rent  \n",
    "Tax = 10 % of gross salary  \n",
    "Net Salary = Gross Salary - Tax  \n",
    "**Sample Run:**  \n",
    "Basic Salary = 30000  \n",
    "Gross Salary = 51000  \n",
    "Net Salary = 45900  "
   ]
  },
  {
   "cell_type": "code",
   "execution_count": null,
   "id": "f7492989-80d2-46c6-bc49-1e7ed3446b16",
   "metadata": {},
   "outputs": [],
   "source": []
  },
  {
   "cell_type": "markdown",
   "id": "d326ffc5-8c26-40b8-9d95-5e8a229e4866",
   "metadata": {},
   "source": [
    "**3.** Write a program to calculate and print __gross salary__ and __net salary__. The input is basic salary. The details\n",
    "are as under:  \n",
    "Medical allowance = 10% of basic salary &nbsp;&nbsp;&nbsp;&nbsp;&nbsp;&nbsp;&nbsp;&nbsp;&nbsp;&nbsp;&nbsp;&nbsp;&nbsp;&nbsp;&nbsp;&nbsp; basic salary * 0.1  \n",
    "Conveyance allowance = 15% of basic salary &nbsp;&nbsp;&nbsp;&nbsp;&nbsp;&nbsp;&nbsp;&nbsp;&nbsp; basic salary * 0.15  \n",
    "House rent = 45% of basic salary  \n",
    "Gross Salary = Basic Salary + Medical Allowance + Conveyance allowance + House rent<br>\n",
    "<br>\n",
    "__Tax__:"
   ]
  },
  {
   "cell_type": "raw",
   "id": "81af4729-5fc8-4b26-8add-1e6298307768",
   "metadata": {},
   "source": [
    "0, if gross salary is less than equal 20000\n",
    "10 % of gross salary, if salary is greater than 20000, and less than equal 40000\n",
    "15 % of gross salary, if salary is greater than 40000, and less than equal 60000\n",
    "20 % of gross salary, if salary is greater than 60000, and less than equal 80000\n",
    "25 % of gross salary, if salary is greater than 80000    "
   ]
  },
  {
   "cell_type": "markdown",
   "id": "daffb8d6-3af8-4f6e-a3d9-5f79810d8c39",
   "metadata": {},
   "source": [
    "Net Salary = Gross Salary - Tax  Tax  \n",
    "**Sample Run:**  \n",
    "Basic Salary = 30000  \n",
    "Gross Salary = 51000  \n",
    "Net Salary = 45900 "
   ]
  },
  {
   "cell_type": "code",
   "execution_count": null,
   "id": "8726c37a-389d-4b1f-8e20-2b49c5081f1f",
   "metadata": {},
   "outputs": [],
   "source": []
  }
 ],
 "metadata": {
  "kernelspec": {
   "display_name": "Python 3 (ipykernel)",
   "language": "python",
   "name": "python3"
  },
  "language_info": {
   "codemirror_mode": {
    "name": "ipython",
    "version": 3
   },
   "file_extension": ".py",
   "mimetype": "text/x-python",
   "name": "python",
   "nbconvert_exporter": "python",
   "pygments_lexer": "ipython3",
   "version": "3.11.3"
  }
 },
 "nbformat": 4,
 "nbformat_minor": 5
}
