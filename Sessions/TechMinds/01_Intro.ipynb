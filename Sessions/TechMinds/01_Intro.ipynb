{
 "cells": [
  {
   "cell_type": "markdown",
   "metadata": {},
   "source": [
    "# Python\n",
    "## Introduction\n",
    "- Input/Output\n",
    "- Variables\n",
    "- Data Types\n",
    "- Conditional Statements\n",
    "- Loops\n",
    "- Functions\n",
    "- Data Structures (List, Tuple, Dictionary, Set)\n",
    "- List Comprehension\n",
    "- String\n",
    "- File Handling\n",
    "\n",
    "## Object Oriented Programming\n",
    "- Classes\n",
    "- Objects\n",
    "- Inheritance\n",
    "- Polymorphism\n",
    "- Encapsulation\n",
    "- Abstraction\n",
    "\n",
    "## Data Analysis\n",
    "- Numpy\n",
    "- Pandas\n",
    "- Matplotlib\n",
    "- Data Preprocessing\n",
    "- Data Visualization\n",
    "- Insights\n",
    "- Streamlit"
   ]
  },
  {
   "cell_type": "code",
   "execution_count": null,
   "metadata": {},
   "outputs": [],
   "source": []
  }
 ],
 "metadata": {
  "language_info": {
   "name": "python"
  }
 },
 "nbformat": 4,
 "nbformat_minor": 2
}
